{
 "cells": [
  {
   "cell_type": "code",
   "execution_count": 97,
   "id": "c776cc6f",
   "metadata": {},
   "outputs": [],
   "source": [
    "import pandas as pd\n",
    "import matplotlib.pyplot as plt\n",
    "# Two-dimensional, size-mutable, potentially heterogeneous tabular data.\n",
    "# Data structure also contains labeled axes (rows and columns). \n",
    "# Arithmetic operations align on both row and column labels. Can be thought \n",
    "# of as a dict-like container for Series objects. The primary pandas data structure."
   ]
  },
  {
   "cell_type": "code",
   "execution_count": 98,
   "id": "73f1ceed",
   "metadata": {},
   "outputs": [],
   "source": [
    "df = pd.read_excel('C:\\\\Users\\\\ginog\\\\Documents\\\\data\\\\SampleData.xlsx', sheet_name='SalesOrders')"
   ]
  },
  {
   "cell_type": "code",
   "execution_count": 99,
   "id": "17024823",
   "metadata": {},
   "outputs": [
    {
     "data": {
      "text/plain": [
       "'C:\\\\Users\\\\ginog\\\\Documents'"
      ]
     },
     "execution_count": 99,
     "metadata": {},
     "output_type": "execute_result"
    }
   ],
   "source": [
    "pwd"
   ]
  },
  {
   "cell_type": "code",
   "execution_count": 100,
   "id": "1062af27",
   "metadata": {},
   "outputs": [
    {
     "data": {
      "text/html": [
       "<div>\n",
       "<style scoped>\n",
       "    .dataframe tbody tr th:only-of-type {\n",
       "        vertical-align: middle;\n",
       "    }\n",
       "\n",
       "    .dataframe tbody tr th {\n",
       "        vertical-align: top;\n",
       "    }\n",
       "\n",
       "    .dataframe thead th {\n",
       "        text-align: right;\n",
       "    }\n",
       "</style>\n",
       "<table border=\"1\" class=\"dataframe\">\n",
       "  <thead>\n",
       "    <tr style=\"text-align: right;\">\n",
       "      <th></th>\n",
       "      <th>OrderDate</th>\n",
       "      <th>Region</th>\n",
       "      <th>Rep</th>\n",
       "      <th>Item</th>\n",
       "      <th>Units</th>\n",
       "      <th>Unit Cost</th>\n",
       "      <th>Total</th>\n",
       "    </tr>\n",
       "  </thead>\n",
       "  <tbody>\n",
       "    <tr>\n",
       "      <th>0</th>\n",
       "      <td>2021-01-06</td>\n",
       "      <td>East</td>\n",
       "      <td>Jones</td>\n",
       "      <td>Pencil</td>\n",
       "      <td>95</td>\n",
       "      <td>1.99</td>\n",
       "      <td>189.05</td>\n",
       "    </tr>\n",
       "    <tr>\n",
       "      <th>1</th>\n",
       "      <td>2021-01-23</td>\n",
       "      <td>Central</td>\n",
       "      <td>Kivell</td>\n",
       "      <td>Binder</td>\n",
       "      <td>50</td>\n",
       "      <td>19.99</td>\n",
       "      <td>999.50</td>\n",
       "    </tr>\n",
       "    <tr>\n",
       "      <th>2</th>\n",
       "      <td>2021-02-09</td>\n",
       "      <td>Central</td>\n",
       "      <td>Jardine</td>\n",
       "      <td>Pencil</td>\n",
       "      <td>36</td>\n",
       "      <td>4.99</td>\n",
       "      <td>179.64</td>\n",
       "    </tr>\n",
       "    <tr>\n",
       "      <th>3</th>\n",
       "      <td>2021-02-26</td>\n",
       "      <td>Central</td>\n",
       "      <td>Gill</td>\n",
       "      <td>Pen</td>\n",
       "      <td>27</td>\n",
       "      <td>19.99</td>\n",
       "      <td>539.73</td>\n",
       "    </tr>\n",
       "    <tr>\n",
       "      <th>4</th>\n",
       "      <td>2021-03-15</td>\n",
       "      <td>West</td>\n",
       "      <td>Sorvino</td>\n",
       "      <td>Pencil</td>\n",
       "      <td>56</td>\n",
       "      <td>2.99</td>\n",
       "      <td>167.44</td>\n",
       "    </tr>\n",
       "    <tr>\n",
       "      <th>5</th>\n",
       "      <td>2021-04-01</td>\n",
       "      <td>East</td>\n",
       "      <td>Jones</td>\n",
       "      <td>Binder</td>\n",
       "      <td>60</td>\n",
       "      <td>4.99</td>\n",
       "      <td>299.40</td>\n",
       "    </tr>\n",
       "    <tr>\n",
       "      <th>6</th>\n",
       "      <td>2021-04-18</td>\n",
       "      <td>Central</td>\n",
       "      <td>Andrews</td>\n",
       "      <td>Pencil</td>\n",
       "      <td>75</td>\n",
       "      <td>1.99</td>\n",
       "      <td>149.25</td>\n",
       "    </tr>\n",
       "    <tr>\n",
       "      <th>7</th>\n",
       "      <td>2021-05-05</td>\n",
       "      <td>Central</td>\n",
       "      <td>Jardine</td>\n",
       "      <td>Pencil</td>\n",
       "      <td>90</td>\n",
       "      <td>4.99</td>\n",
       "      <td>449.10</td>\n",
       "    </tr>\n",
       "    <tr>\n",
       "      <th>8</th>\n",
       "      <td>2021-05-22</td>\n",
       "      <td>West</td>\n",
       "      <td>Thompson</td>\n",
       "      <td>Pencil</td>\n",
       "      <td>32</td>\n",
       "      <td>1.99</td>\n",
       "      <td>63.68</td>\n",
       "    </tr>\n",
       "    <tr>\n",
       "      <th>9</th>\n",
       "      <td>2021-06-08</td>\n",
       "      <td>East</td>\n",
       "      <td>Jones</td>\n",
       "      <td>Binder</td>\n",
       "      <td>60</td>\n",
       "      <td>8.99</td>\n",
       "      <td>539.40</td>\n",
       "    </tr>\n",
       "    <tr>\n",
       "      <th>10</th>\n",
       "      <td>2021-06-25</td>\n",
       "      <td>Central</td>\n",
       "      <td>Morgan</td>\n",
       "      <td>Pencil</td>\n",
       "      <td>90</td>\n",
       "      <td>4.99</td>\n",
       "      <td>449.10</td>\n",
       "    </tr>\n",
       "    <tr>\n",
       "      <th>11</th>\n",
       "      <td>2021-07-12</td>\n",
       "      <td>East</td>\n",
       "      <td>Howard</td>\n",
       "      <td>Binder</td>\n",
       "      <td>29</td>\n",
       "      <td>1.99</td>\n",
       "      <td>57.71</td>\n",
       "    </tr>\n",
       "    <tr>\n",
       "      <th>12</th>\n",
       "      <td>2021-07-29</td>\n",
       "      <td>East</td>\n",
       "      <td>Parent</td>\n",
       "      <td>Binder</td>\n",
       "      <td>81</td>\n",
       "      <td>19.99</td>\n",
       "      <td>1619.19</td>\n",
       "    </tr>\n",
       "    <tr>\n",
       "      <th>13</th>\n",
       "      <td>2021-08-15</td>\n",
       "      <td>East</td>\n",
       "      <td>Jones</td>\n",
       "      <td>Pencil</td>\n",
       "      <td>35</td>\n",
       "      <td>4.99</td>\n",
       "      <td>174.65</td>\n",
       "    </tr>\n",
       "    <tr>\n",
       "      <th>14</th>\n",
       "      <td>2021-09-01</td>\n",
       "      <td>Central</td>\n",
       "      <td>Smith</td>\n",
       "      <td>Desk</td>\n",
       "      <td>2</td>\n",
       "      <td>125.00</td>\n",
       "      <td>250.00</td>\n",
       "    </tr>\n",
       "    <tr>\n",
       "      <th>15</th>\n",
       "      <td>2021-09-18</td>\n",
       "      <td>East</td>\n",
       "      <td>Jones</td>\n",
       "      <td>Pen Set</td>\n",
       "      <td>16</td>\n",
       "      <td>15.99</td>\n",
       "      <td>255.84</td>\n",
       "    </tr>\n",
       "    <tr>\n",
       "      <th>16</th>\n",
       "      <td>2021-10-05</td>\n",
       "      <td>Central</td>\n",
       "      <td>Morgan</td>\n",
       "      <td>Binder</td>\n",
       "      <td>28</td>\n",
       "      <td>8.99</td>\n",
       "      <td>251.72</td>\n",
       "    </tr>\n",
       "    <tr>\n",
       "      <th>17</th>\n",
       "      <td>2021-10-22</td>\n",
       "      <td>East</td>\n",
       "      <td>Jones</td>\n",
       "      <td>Pen</td>\n",
       "      <td>64</td>\n",
       "      <td>8.99</td>\n",
       "      <td>575.36</td>\n",
       "    </tr>\n",
       "    <tr>\n",
       "      <th>18</th>\n",
       "      <td>2021-11-08</td>\n",
       "      <td>East</td>\n",
       "      <td>Parent</td>\n",
       "      <td>Pen</td>\n",
       "      <td>15</td>\n",
       "      <td>19.99</td>\n",
       "      <td>299.85</td>\n",
       "    </tr>\n",
       "    <tr>\n",
       "      <th>19</th>\n",
       "      <td>2021-11-25</td>\n",
       "      <td>Central</td>\n",
       "      <td>Kivell</td>\n",
       "      <td>Pen Set</td>\n",
       "      <td>96</td>\n",
       "      <td>4.99</td>\n",
       "      <td>479.04</td>\n",
       "    </tr>\n",
       "    <tr>\n",
       "      <th>20</th>\n",
       "      <td>2021-12-12</td>\n",
       "      <td>Central</td>\n",
       "      <td>Smith</td>\n",
       "      <td>Pencil</td>\n",
       "      <td>67</td>\n",
       "      <td>1.29</td>\n",
       "      <td>86.43</td>\n",
       "    </tr>\n",
       "    <tr>\n",
       "      <th>21</th>\n",
       "      <td>2021-12-29</td>\n",
       "      <td>East</td>\n",
       "      <td>Parent</td>\n",
       "      <td>Pen Set</td>\n",
       "      <td>74</td>\n",
       "      <td>15.99</td>\n",
       "      <td>1183.26</td>\n",
       "    </tr>\n",
       "    <tr>\n",
       "      <th>22</th>\n",
       "      <td>2022-01-15</td>\n",
       "      <td>Central</td>\n",
       "      <td>Gill</td>\n",
       "      <td>Binder</td>\n",
       "      <td>46</td>\n",
       "      <td>8.99</td>\n",
       "      <td>413.54</td>\n",
       "    </tr>\n",
       "    <tr>\n",
       "      <th>23</th>\n",
       "      <td>2022-02-01</td>\n",
       "      <td>Central</td>\n",
       "      <td>Smith</td>\n",
       "      <td>Binder</td>\n",
       "      <td>87</td>\n",
       "      <td>15.00</td>\n",
       "      <td>1305.00</td>\n",
       "    </tr>\n",
       "    <tr>\n",
       "      <th>24</th>\n",
       "      <td>2022-02-18</td>\n",
       "      <td>East</td>\n",
       "      <td>Jones</td>\n",
       "      <td>Binder</td>\n",
       "      <td>4</td>\n",
       "      <td>4.99</td>\n",
       "      <td>19.96</td>\n",
       "    </tr>\n",
       "    <tr>\n",
       "      <th>25</th>\n",
       "      <td>2022-03-07</td>\n",
       "      <td>West</td>\n",
       "      <td>Sorvino</td>\n",
       "      <td>Binder</td>\n",
       "      <td>7</td>\n",
       "      <td>19.99</td>\n",
       "      <td>139.93</td>\n",
       "    </tr>\n",
       "    <tr>\n",
       "      <th>26</th>\n",
       "      <td>2022-03-24</td>\n",
       "      <td>Central</td>\n",
       "      <td>Jardine</td>\n",
       "      <td>Pen Set</td>\n",
       "      <td>50</td>\n",
       "      <td>4.99</td>\n",
       "      <td>249.50</td>\n",
       "    </tr>\n",
       "    <tr>\n",
       "      <th>27</th>\n",
       "      <td>2022-04-10</td>\n",
       "      <td>Central</td>\n",
       "      <td>Andrews</td>\n",
       "      <td>Pencil</td>\n",
       "      <td>66</td>\n",
       "      <td>1.99</td>\n",
       "      <td>131.34</td>\n",
       "    </tr>\n",
       "    <tr>\n",
       "      <th>28</th>\n",
       "      <td>2022-04-27</td>\n",
       "      <td>East</td>\n",
       "      <td>Howard</td>\n",
       "      <td>Pen</td>\n",
       "      <td>96</td>\n",
       "      <td>4.99</td>\n",
       "      <td>479.04</td>\n",
       "    </tr>\n",
       "    <tr>\n",
       "      <th>29</th>\n",
       "      <td>2022-05-14</td>\n",
       "      <td>Central</td>\n",
       "      <td>Gill</td>\n",
       "      <td>Pencil</td>\n",
       "      <td>53</td>\n",
       "      <td>1.29</td>\n",
       "      <td>68.37</td>\n",
       "    </tr>\n",
       "    <tr>\n",
       "      <th>30</th>\n",
       "      <td>2022-05-31</td>\n",
       "      <td>Central</td>\n",
       "      <td>Gill</td>\n",
       "      <td>Binder</td>\n",
       "      <td>80</td>\n",
       "      <td>8.99</td>\n",
       "      <td>719.20</td>\n",
       "    </tr>\n",
       "    <tr>\n",
       "      <th>31</th>\n",
       "      <td>2022-06-17</td>\n",
       "      <td>Central</td>\n",
       "      <td>Kivell</td>\n",
       "      <td>Desk</td>\n",
       "      <td>5</td>\n",
       "      <td>125.00</td>\n",
       "      <td>625.00</td>\n",
       "    </tr>\n",
       "    <tr>\n",
       "      <th>32</th>\n",
       "      <td>2022-07-04</td>\n",
       "      <td>East</td>\n",
       "      <td>Jones</td>\n",
       "      <td>Pen Set</td>\n",
       "      <td>62</td>\n",
       "      <td>4.99</td>\n",
       "      <td>309.38</td>\n",
       "    </tr>\n",
       "    <tr>\n",
       "      <th>33</th>\n",
       "      <td>2022-07-21</td>\n",
       "      <td>Central</td>\n",
       "      <td>Morgan</td>\n",
       "      <td>Pen Set</td>\n",
       "      <td>55</td>\n",
       "      <td>12.49</td>\n",
       "      <td>686.95</td>\n",
       "    </tr>\n",
       "    <tr>\n",
       "      <th>34</th>\n",
       "      <td>2022-08-07</td>\n",
       "      <td>Central</td>\n",
       "      <td>Kivell</td>\n",
       "      <td>Pen Set</td>\n",
       "      <td>42</td>\n",
       "      <td>23.95</td>\n",
       "      <td>1005.90</td>\n",
       "    </tr>\n",
       "    <tr>\n",
       "      <th>35</th>\n",
       "      <td>2022-08-24</td>\n",
       "      <td>West</td>\n",
       "      <td>Sorvino</td>\n",
       "      <td>Desk</td>\n",
       "      <td>3</td>\n",
       "      <td>275.00</td>\n",
       "      <td>825.00</td>\n",
       "    </tr>\n",
       "    <tr>\n",
       "      <th>36</th>\n",
       "      <td>2022-09-10</td>\n",
       "      <td>Central</td>\n",
       "      <td>Gill</td>\n",
       "      <td>Pencil</td>\n",
       "      <td>7</td>\n",
       "      <td>1.29</td>\n",
       "      <td>9.03</td>\n",
       "    </tr>\n",
       "    <tr>\n",
       "      <th>37</th>\n",
       "      <td>2022-09-27</td>\n",
       "      <td>West</td>\n",
       "      <td>Sorvino</td>\n",
       "      <td>Pen</td>\n",
       "      <td>76</td>\n",
       "      <td>1.99</td>\n",
       "      <td>151.24</td>\n",
       "    </tr>\n",
       "    <tr>\n",
       "      <th>38</th>\n",
       "      <td>2022-10-14</td>\n",
       "      <td>West</td>\n",
       "      <td>Thompson</td>\n",
       "      <td>Binder</td>\n",
       "      <td>57</td>\n",
       "      <td>19.99</td>\n",
       "      <td>1139.43</td>\n",
       "    </tr>\n",
       "    <tr>\n",
       "      <th>39</th>\n",
       "      <td>2022-10-31</td>\n",
       "      <td>Central</td>\n",
       "      <td>Andrews</td>\n",
       "      <td>Pencil</td>\n",
       "      <td>14</td>\n",
       "      <td>1.29</td>\n",
       "      <td>18.06</td>\n",
       "    </tr>\n",
       "    <tr>\n",
       "      <th>40</th>\n",
       "      <td>2022-11-17</td>\n",
       "      <td>Central</td>\n",
       "      <td>Jardine</td>\n",
       "      <td>Binder</td>\n",
       "      <td>11</td>\n",
       "      <td>4.99</td>\n",
       "      <td>54.89</td>\n",
       "    </tr>\n",
       "    <tr>\n",
       "      <th>41</th>\n",
       "      <td>2022-12-04</td>\n",
       "      <td>Central</td>\n",
       "      <td>Jardine</td>\n",
       "      <td>Binder</td>\n",
       "      <td>94</td>\n",
       "      <td>19.99</td>\n",
       "      <td>1879.06</td>\n",
       "    </tr>\n",
       "    <tr>\n",
       "      <th>42</th>\n",
       "      <td>2022-12-21</td>\n",
       "      <td>Central</td>\n",
       "      <td>Andrews</td>\n",
       "      <td>Binder</td>\n",
       "      <td>28</td>\n",
       "      <td>4.99</td>\n",
       "      <td>139.72</td>\n",
       "    </tr>\n",
       "  </tbody>\n",
       "</table>\n",
       "</div>"
      ],
      "text/plain": [
       "    OrderDate   Region       Rep     Item  Units  Unit Cost    Total\n",
       "0  2021-01-06     East     Jones   Pencil     95       1.99   189.05\n",
       "1  2021-01-23  Central    Kivell   Binder     50      19.99   999.50\n",
       "2  2021-02-09  Central   Jardine   Pencil     36       4.99   179.64\n",
       "3  2021-02-26  Central      Gill      Pen     27      19.99   539.73\n",
       "4  2021-03-15     West   Sorvino   Pencil     56       2.99   167.44\n",
       "5  2021-04-01     East     Jones   Binder     60       4.99   299.40\n",
       "6  2021-04-18  Central   Andrews   Pencil     75       1.99   149.25\n",
       "7  2021-05-05  Central   Jardine   Pencil     90       4.99   449.10\n",
       "8  2021-05-22     West  Thompson   Pencil     32       1.99    63.68\n",
       "9  2021-06-08     East     Jones   Binder     60       8.99   539.40\n",
       "10 2021-06-25  Central    Morgan   Pencil     90       4.99   449.10\n",
       "11 2021-07-12     East    Howard   Binder     29       1.99    57.71\n",
       "12 2021-07-29     East    Parent   Binder     81      19.99  1619.19\n",
       "13 2021-08-15     East     Jones   Pencil     35       4.99   174.65\n",
       "14 2021-09-01  Central     Smith     Desk      2     125.00   250.00\n",
       "15 2021-09-18     East     Jones  Pen Set     16      15.99   255.84\n",
       "16 2021-10-05  Central    Morgan   Binder     28       8.99   251.72\n",
       "17 2021-10-22     East     Jones      Pen     64       8.99   575.36\n",
       "18 2021-11-08     East    Parent      Pen     15      19.99   299.85\n",
       "19 2021-11-25  Central    Kivell  Pen Set     96       4.99   479.04\n",
       "20 2021-12-12  Central     Smith   Pencil     67       1.29    86.43\n",
       "21 2021-12-29     East    Parent  Pen Set     74      15.99  1183.26\n",
       "22 2022-01-15  Central      Gill   Binder     46       8.99   413.54\n",
       "23 2022-02-01  Central     Smith   Binder     87      15.00  1305.00\n",
       "24 2022-02-18     East     Jones   Binder      4       4.99    19.96\n",
       "25 2022-03-07     West   Sorvino   Binder      7      19.99   139.93\n",
       "26 2022-03-24  Central   Jardine  Pen Set     50       4.99   249.50\n",
       "27 2022-04-10  Central   Andrews   Pencil     66       1.99   131.34\n",
       "28 2022-04-27     East    Howard      Pen     96       4.99   479.04\n",
       "29 2022-05-14  Central      Gill   Pencil     53       1.29    68.37\n",
       "30 2022-05-31  Central      Gill   Binder     80       8.99   719.20\n",
       "31 2022-06-17  Central    Kivell     Desk      5     125.00   625.00\n",
       "32 2022-07-04     East     Jones  Pen Set     62       4.99   309.38\n",
       "33 2022-07-21  Central    Morgan  Pen Set     55      12.49   686.95\n",
       "34 2022-08-07  Central    Kivell  Pen Set     42      23.95  1005.90\n",
       "35 2022-08-24     West   Sorvino     Desk      3     275.00   825.00\n",
       "36 2022-09-10  Central      Gill   Pencil      7       1.29     9.03\n",
       "37 2022-09-27     West   Sorvino      Pen     76       1.99   151.24\n",
       "38 2022-10-14     West  Thompson   Binder     57      19.99  1139.43\n",
       "39 2022-10-31  Central   Andrews   Pencil     14       1.29    18.06\n",
       "40 2022-11-17  Central   Jardine   Binder     11       4.99    54.89\n",
       "41 2022-12-04  Central   Jardine   Binder     94      19.99  1879.06\n",
       "42 2022-12-21  Central   Andrews   Binder     28       4.99   139.72"
      ]
     },
     "execution_count": 100,
     "metadata": {},
     "output_type": "execute_result"
    }
   ],
   "source": [
    "df"
   ]
  },
  {
   "cell_type": "code",
   "execution_count": 101,
   "id": "08e4a445",
   "metadata": {},
   "outputs": [
    {
     "data": {
      "text/plain": [
       "43"
      ]
     },
     "execution_count": 101,
     "metadata": {},
     "output_type": "execute_result"
    }
   ],
   "source": [
    "# count the number of rows\n",
    "len(df.index)"
   ]
  },
  {
   "cell_type": "code",
   "execution_count": 102,
   "id": "0745e6ab",
   "metadata": {},
   "outputs": [
    {
     "data": {
      "text/plain": [
       "7"
      ]
     },
     "execution_count": 102,
     "metadata": {},
     "output_type": "execute_result"
    }
   ],
   "source": [
    "# count the number of columns\n",
    "len(df.columns)"
   ]
  },
  {
   "cell_type": "code",
   "execution_count": 103,
   "id": "43460555",
   "metadata": {},
   "outputs": [
    {
     "data": {
      "text/plain": [
       "Index(['OrderDate', 'Region', 'Rep', 'Item', 'Units', 'Unit Cost', 'Total'], dtype='object')"
      ]
     },
     "execution_count": 103,
     "metadata": {},
     "output_type": "execute_result"
    }
   ],
   "source": [
    "df.columns"
   ]
  },
  {
   "cell_type": "code",
   "execution_count": 104,
   "id": "b25c876e",
   "metadata": {},
   "outputs": [
    {
     "data": {
      "text/plain": [
       "RangeIndex(start=0, stop=43, step=1)"
      ]
     },
     "execution_count": 104,
     "metadata": {},
     "output_type": "execute_result"
    }
   ],
   "source": [
    "df.index"
   ]
  },
  {
   "cell_type": "code",
   "execution_count": 105,
   "id": "9172f352",
   "metadata": {},
   "outputs": [
    {
     "data": {
      "text/plain": [
       "'OrderDate'"
      ]
     },
     "execution_count": 105,
     "metadata": {},
     "output_type": "execute_result"
    }
   ],
   "source": [
    "df.columns[0]"
   ]
  },
  {
   "cell_type": "code",
   "execution_count": 106,
   "id": "554f86e4",
   "metadata": {},
   "outputs": [
    {
     "data": {
      "text/plain": [
       "0    2021-01-06\n",
       "1    2021-01-23\n",
       "2    2021-02-09\n",
       "3    2021-02-26\n",
       "4    2021-03-15\n",
       "5    2021-04-01\n",
       "6    2021-04-18\n",
       "7    2021-05-05\n",
       "8    2021-05-22\n",
       "9    2021-06-08\n",
       "10   2021-06-25\n",
       "11   2021-07-12\n",
       "12   2021-07-29\n",
       "13   2021-08-15\n",
       "14   2021-09-01\n",
       "15   2021-09-18\n",
       "16   2021-10-05\n",
       "17   2021-10-22\n",
       "18   2021-11-08\n",
       "19   2021-11-25\n",
       "20   2021-12-12\n",
       "21   2021-12-29\n",
       "22   2022-01-15\n",
       "23   2022-02-01\n",
       "24   2022-02-18\n",
       "25   2022-03-07\n",
       "26   2022-03-24\n",
       "27   2022-04-10\n",
       "28   2022-04-27\n",
       "29   2022-05-14\n",
       "30   2022-05-31\n",
       "31   2022-06-17\n",
       "32   2022-07-04\n",
       "33   2022-07-21\n",
       "34   2022-08-07\n",
       "35   2022-08-24\n",
       "36   2022-09-10\n",
       "37   2022-09-27\n",
       "38   2022-10-14\n",
       "39   2022-10-31\n",
       "40   2022-11-17\n",
       "41   2022-12-04\n",
       "42   2022-12-21\n",
       "Name: OrderDate, dtype: datetime64[ns]"
      ]
     },
     "execution_count": 106,
     "metadata": {},
     "output_type": "execute_result"
    }
   ],
   "source": [
    "df['OrderDate']"
   ]
  },
  {
   "cell_type": "code",
   "execution_count": 107,
   "id": "ecc796d2",
   "metadata": {},
   "outputs": [
    {
     "data": {
      "text/plain": [
       "OrderDate    2021-01-06 00:00:00\n",
       "Region                      East\n",
       "Rep                        Jones\n",
       "Item                      Pencil\n",
       "Units                         95\n",
       "Unit Cost                   1.99\n",
       "Total                     189.05\n",
       "Name: 0, dtype: object"
      ]
     },
     "execution_count": 107,
     "metadata": {},
     "output_type": "execute_result"
    }
   ],
   "source": [
    "# Access a group of rows and columns by label(s) or a boolean array.\n",
    "df.loc[0]"
   ]
  },
  {
   "cell_type": "code",
   "execution_count": 108,
   "id": "d354bca4",
   "metadata": {},
   "outputs": [
    {
     "data": {
      "text/plain": [
       "OrderDate    2021-01-06 00:00:00\n",
       "Region                      East\n",
       "Rep                        Jones\n",
       "Item                      Pencil\n",
       "Units                         95\n",
       "Unit Cost                   1.99\n",
       "Total                     189.05\n",
       "Name: 0, dtype: object"
      ]
     },
     "execution_count": 108,
     "metadata": {},
     "output_type": "execute_result"
    }
   ],
   "source": [
    "# Purely integer-location based indexing for selection by position.\n",
    "df.iloc[0]\n"
   ]
  },
  {
   "cell_type": "code",
   "execution_count": 109,
   "id": "7f5605f9",
   "metadata": {},
   "outputs": [],
   "source": [
    "# please create a github profile to upload the results of your data analysis\n",
    "# you can download the ipynb file in the form a notebook.\n",
    "#For this assignment, you are supposed to submit the notebook.\n",
    "\n",
    "# tasks/Questions\n",
    "# plot the histograms for the data distribution in all the columns\n",
    "# which Rep has taken most of the orders for the Central Region?\n",
    "# which item is most frequently bought?\n",
    "# which item is most frequently bought the April 2022\n",
    "# plot the distribution of the items bought in June 2021\n",
    "# find the correlation between the two columns 'Region' and 'Units'"
   ]
  },
  {
   "cell_type": "code",
   "execution_count": 110,
   "id": "d98b38f2",
   "metadata": {},
   "outputs": [
    {
     "data": {
      "text/plain": [
       "array([[<Axes: title={'center': 'OrderDate'}>,\n",
       "        <Axes: title={'center': 'Units'}>],\n",
       "       [<Axes: title={'center': 'Unit Cost'}>,\n",
       "        <Axes: title={'center': 'Total'}>]], dtype=object)"
      ]
     },
     "execution_count": 110,
     "metadata": {},
     "output_type": "execute_result"
    },
    {
     "data": {
      "image/png": "[encoded data removed]",
      "text/plain": [
       "<Figure size 3000x1000 with 4 Axes>"
      ]
     },
     "metadata": {},
     "output_type": "display_data"
    }
   ],
   "source": [
    "#1)\n",
    "df.hist(bins = 20, figsize=[30,10])"
   ]
  },
  {
   "cell_type": "code",
   "execution_count": 111,
   "id": "1d2ac1e7",
   "metadata": {},
   "outputs": [
    {
     "name": "stdout",
     "output_type": "stream",
     "text": [
      "The Rep with the most orders in the Central Region is: Jardine\n"
     ]
    }
   ],
   "source": [
    "#2.) # plot the histograms for the data distribution in all the columns\n",
    "\n",
    "# Note we can only create histograms for the columns with numerical data We create another dataframe within our current one to \n",
    "\n",
    "central_orders = df[df['Region'] == 'Central']['Rep'].value_counts() #value_counts() takes the mode\n",
    "top_rep = central_orders.idxmax() #within a dataframe (df) we use df.idxmax()\n",
    "print(f'The Rep with the most orders in the Central Region is: {top_rep}')"
   ]
  },
  {
   "cell_type": "code",
   "execution_count": 112,
   "id": "fa9fd82e",
   "metadata": {},
   "outputs": [
    {
     "name": "stdout",
     "output_type": "stream",
     "text": [
      "The item which is most frequently bought is: Binder and it was bought 15 times\n"
     ]
    }
   ],
   "source": [
    "#3.) which item is most frequently bought?\n",
    "#Here I used mainly the same functions as above except for the singular df we've included but I also thought it be nice to show how many times it was purchased.\n",
    "frequently_bought = df['Item'].value_counts()\n",
    "print(f'The item which is most frequently bought is: {frequently_bought.idxmax()} and it was bought {frequently_bought.max()} times')\n",
    "      "
   ]
  },
  {
   "cell_type": "code",
   "execution_count": 113,
   "id": "7a77e070",
   "metadata": {},
   "outputs": [
    {
     "name": "stdout",
     "output_type": "stream",
     "text": [
      "The item that is most frequently bought in April 2022 is: Pencil\n"
     ]
    }
   ],
   "source": [
    "#4.) which item is most frequently bought the April 2022\n",
    "\n",
    "df['OrderDate'] = pd.to_datetime(df['OrderDate']) #Formats date so we can use pandas fx like dt.month/year\n",
    "\n",
    "filter_dates = (df['OrderDate'].dt.year == 2022) & (df['OrderDate'].dt.month == 4) #collects month and years with dt.month/year\n",
    "\n",
    "april_2022_orders = df[filter_dates] #creates dataframe of filtered dates\n",
    "\n",
    "item_counts = april_2022_orders['Item'].value_counts() #counts the data in our item column from our filtered dates\n",
    "\n",
    "# Gets max value of this df column\n",
    "most_frequent_item = item_counts.idxmax()\n",
    "\n",
    "print(f\"The item that is most frequently bought in April 2022 is: {most_frequent_item}\")\n"
   ]
  },
  {
   "cell_type": "code",
   "execution_count": 114,
   "id": "792cb871",
   "metadata": {},
   "outputs": [
    {
     "name": "stdout",
     "output_type": "stream",
     "text": [
      "    OrderDate   Region     Rep    Item  Units  Unit Cost  Total\n",
      "9  2021-06-08     East   Jones  Binder     60       8.99  539.4\n",
      "10 2021-06-25  Central  Morgan  Pencil     90       4.99  449.1\n"
     ]
    },
    {
     "data": {
      "text/plain": [
       "Text(0.5, 1.0, 'Distribution of Items Bought in June 2021')"
      ]
     },
     "execution_count": 114,
     "metadata": {},
     "output_type": "execute_result"
    },
    {
     "data": {
      "image/png": "[encoded data removed]",
      "text/plain": [
       "<Figure size 640x480 with 1 Axes>"
      ]
     },
     "metadata": {},
     "output_type": "display_data"
    }
   ],
   "source": [
    "#5.) plot the distribution of the items bought in June 2021\n",
    "filter_dates_2 = (df['OrderDate'].dt.year == 2021) & (df['OrderDate'].dt.month == 6) #collects month and years with dt.month/year\n",
    "\n",
    "June_2021_orders = df[filter_dates_2]\n",
    "\n",
    "print(June_2021_orders)\n",
    "\n",
    "June_2021_orders['Item'].value_counts().plot(kind='bar')\n",
    "#counts how many columns needed with value counts then we create a bar graph with that value.\n",
    "\n",
    "#labels\n",
    "plt.xlabel('Item')\n",
    "plt.ylabel('Count')\n",
    "plt.title('Distribution of Items Bought in June 2021')\n"
   ]
  },
  {
   "cell_type": "code",
   "execution_count": 116,
   "id": "81b193dd",
   "metadata": {},
   "outputs": [
    {
     "name": "stdout",
     "output_type": "stream",
     "text": [
      "-0.08673917807467119\n"
     ]
    }
   ],
   "source": [
    "# find the correlation between the two columns 'Region' and 'Units'\n",
    "\n",
    "#We use pandas implemented correlation function here although this functions corr values have to be int or float so I converted the string values .cat.codes\n",
    "#in efforts to find the correlation here... Wasnt too sure what to do.\n",
    "df['RegionCode'] = df['Region'].astype('category').cat.codes\n",
    "\n",
    "correlation = df['RegionCode'].corr(df['Units'])\n",
    "print(correlation)"
   ]
  },
  {
   "cell_type": "code",
   "execution_count": null,
   "id": "7bf861c0",
   "metadata": {},
   "outputs": [],
   "source": []
  }
 ],
 "metadata": {
  "kernelspec": {
   "display_name": "Python 3 (ipykernel)",
   "language": "python",
   "name": "python3"
  },
  "language_info": {
   "codemirror_mode": {
    "name": "ipython",
    "version": 3
   },
   "file_extension": ".py",
   "mimetype": "text/x-python",
   "name": "python",
   "nbconvert_exporter": "python",
   "pygments_lexer": "ipython3",
   "version": "3.11.4"
  }
 },
 "nbformat": 4,
 "nbformat_minor": 5
}
