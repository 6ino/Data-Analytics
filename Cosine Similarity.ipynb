{
 "cells": [
  {
   "cell_type": "code",
   "execution_count": 3,
   "id": "8c9a1c56",
   "metadata": {},
   "outputs": [],
   "source": [
    "import numpy as np\n",
    "from numpy.linalg import norm"
   ]
  },
  {
   "cell_type": "code",
   "execution_count": 4,
   "id": "7a0198dd",
   "metadata": {},
   "outputs": [],
   "source": [
    "def cosine_similarity(A, B):\n",
    "    return np.dot(A,B) / (norm(A) * norm(B))"
   ]
  },
  {
   "cell_type": "code",
   "execution_count": 5,
   "id": "6eadcc93",
   "metadata": {},
   "outputs": [
    {
     "name": "stdout",
     "output_type": "stream",
     "text": [
      "Cosine Similarity Value is: 0.4629100498862757\n",
      "Cosine Similarity Value is: 0.0\n"
     ]
    }
   ],
   "source": [
    "A = np.array([1,1,1,1,1,1,0,0,0,0])\n",
    "B = np.array([1,1,0,0,1,0,1,1,1,1])\n",
    "print(f'Cosine Similarity Value is: {cosine_similarity(A, B)}')\n",
    "A = np.array([1,1,1,0,0,0,0])\n",
    "B = np.array([0,0,0,1,1,1,1])\n",
    "print(f'Cosine Similarity Value is: {cosine_similarity(A, B)}')"
   ]
  },
  {
   "cell_type": "code",
   "execution_count": null,
   "id": "961860b6",
   "metadata": {},
   "outputs": [],
   "source": []
  },
  {
   "cell_type": "code",
   "execution_count": null,
   "id": "9065d7a5",
   "metadata": {},
   "outputs": [],
   "source": []
  },
  {
   "cell_type": "code",
   "execution_count": null,
   "id": "418471ee",
   "metadata": {},
   "outputs": [],
   "source": []
  }
 ],
 "metadata": {
  "kernelspec": {
   "display_name": "Python 3 (ipykernel)",
   "language": "python",
   "name": "python3"
  },
  "language_info": {
   "codemirror_mode": {
    "name": "ipython",
    "version": 3
   },
   "file_extension": ".py",
   "mimetype": "text/x-python",
   "name": "python",
   "nbconvert_exporter": "python",
   "pygments_lexer": "ipython3",
   "version": "3.11.4"
  }
 },
 "nbformat": 4,
 "nbformat_minor": 5
}
